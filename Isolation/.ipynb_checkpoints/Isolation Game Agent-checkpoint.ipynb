{
 "cells": [
  {
   "cell_type": "markdown",
   "metadata": {},
   "source": [
    "<h1>AIND Project 2: Adversarial Search Agent</h1>"
   ]
  },
  {
   "cell_type": "markdown",
   "metadata": {},
   "source": [
    "Finish all TODO items in this notebook to complete the isolation project, then test your agent's strength against a set of known agents using tournament.py and include the results in your report."
   ]
  },
  {
   "cell_type": "markdown",
   "metadata": {},
   "source": [
    "**Importing Dependencies**"
   ]
  },
  {
   "cell_type": "code",
   "execution_count": 1,
   "metadata": {
    "collapsed": true
   },
   "outputs": [],
   "source": [
    "import random"
   ]
  },
  {
   "cell_type": "markdown",
   "metadata": {},
   "source": [
    "**Timeout Class**"
   ]
  },
  {
   "cell_type": "code",
   "execution_count": 2,
   "metadata": {
    "collapsed": true
   },
   "outputs": [],
   "source": [
    "class SearchTimeout(Exception):\n",
    "    \"\"\"Subclass base exception for code clarity.\"\"\"\n",
    "    pass"
   ]
  },
  {
   "cell_type": "markdown",
   "metadata": {},
   "source": [
    "<h3>Custom Score Function(s)</h3>\n",
    "\n",
    "These functions will be used to find the value of a game state from the point of view of a given player.\n",
    "\n",
    "custom_score will offer the best heuristic function followed by custom_score_2 and custom_score_3. "
   ]
  },
  {
   "cell_type": "code",
   "execution_count": 4,
   "metadata": {
    "collapsed": true
   },
   "outputs": [],
   "source": [
    "def custom_score(game, player):\n",
    "    \"\"\"Calculate the heuristic value of a game state from the point of\n",
    "    view of the given player.\n",
    "    \n",
    "    This should be the best heuristic function for your project submission.\n",
    "    \n",
    "    Note: this function should be called from within a Player instance as\n",
    "    `self.score()` -- you should not need to call this function directly.\n",
    "    \n",
    "    Parameters\n",
    "    ----------\n",
    "    game : `isolation.Board`\n",
    "        An instance of `isolation.Board` encoding the current state of the\n",
    "        game (e.g., player locations and blocked cells).\n",
    "    \n",
    "    player : object\n",
    "        A player instance in the current game (i.e., an object corresponding\n",
    "        to one of the player objects `game.__player_1__` of `game.__player_2__`.)\n",
    "        \n",
    "    Returns\n",
    "    -------\n",
    "    float\n",
    "        The heuristic value of the current game state to the specified player.\n",
    "    \"\"\"\n",
    "    # TODO: finish this function!\n",
    "    raise NotImplementedError\n",
    "    "
   ]
  },
  {
   "cell_type": "code",
   "execution_count": 5,
   "metadata": {
    "collapsed": true
   },
   "outputs": [],
   "source": [
    "def custom_score_2(game, player):\n",
    "    \"\"\"Calculate the heuristic value of a game state from the point of\n",
    "    view of the given player.\n",
    "    \n",
    "    Note: this function should be called from within a Player instance as\n",
    "    `self.score()` -- you should not need to call this function directly.\n",
    "    \n",
    "    Parameters\n",
    "    ----------\n",
    "    game : `isolation.Board`\n",
    "        An instance of `isolation.Board` encoding the current state of the\n",
    "        game (e.g., player locations and blocked cells).\n",
    "    \n",
    "    player : object\n",
    "        A player instance in the current game (i.e., an object corresponding\n",
    "        to one of the player objects `game.__player_1__` of `game.__player_2__`.)\n",
    "        \n",
    "    Returns\n",
    "    -------\n",
    "    float\n",
    "        The heuristic value of the current game state to the specified player.\n",
    "    \"\"\"\n",
    "    # TODO: finish this function!\n",
    "    raise NotImplementedError"
   ]
  },
  {
   "cell_type": "code",
   "execution_count": 6,
   "metadata": {
    "collapsed": true
   },
   "outputs": [],
   "source": [
    "def custom_score(game, player):\n",
    "    \"\"\"Calculate the heuristic value of a game state from the point of\n",
    "    view of the given player.\n",
    "    \n",
    "    Note: this function should be called from within a Player instance as\n",
    "    `self.score()` -- you should not need to call this function directly.\n",
    "    \n",
    "    Parameters\n",
    "    ----------\n",
    "    game : `isolation.Board`\n",
    "        An instance of `isolation.Board` encoding the current state of the\n",
    "        game (e.g., player locations and blocked cells).\n",
    "    \n",
    "    player : object\n",
    "        A player instance in the current game (i.e., an object corresponding\n",
    "        to one of the player objects `game.__player_1__` of `game.__player_2__`.)\n",
    "        \n",
    "    Returns\n",
    "    -------\n",
    "    float\n",
    "        The heuristic value of the current game state to the specified player.\n",
    "    \"\"\"\n",
    "    # TODO: finish this function!\n",
    "    raise NotImplementedError"
   ]
  },
  {
   "cell_type": "markdown",
   "metadata": {},
   "source": [
    "<h3>Isolation Player Class</h3>\n",
    "\n",
    "This class represents an isolation player. \n",
    "\n",
    "The search_depth parameter is a postive integer for the number of layers in the game tree to explore for fixed-depth search.\n",
    "\n",
    "The score_fn parameter is a function to use for the heuristic evaluation of game states (these functions are defined above).\n",
    "\n",
    "The timeout parameter is the time remaining in milliseconds when search is aborted. Each move has a time limit, this will define said limit. "
   ]
  },
  {
   "cell_type": "code",
   "execution_count": 7,
   "metadata": {
    "collapsed": true
   },
   "outputs": [],
   "source": [
    "class IsolationPlayer:\n",
    "    \"\"\"Base class for minimax and alphabeta agents -- this class is never\n",
    "    constructed or tested directly.\n",
    "    \n",
    "    Parameters\n",
    "    ----------\n",
    "    search_depth : int (optional)\n",
    "        A strictly positive integer (i.e. 1, 2, 3,...) for the number of\n",
    "        layers in the game tree to explore for fixed-depth search. (i.e., a\n",
    "        depth of one(1) would only explore the immediate sucessor of the\n",
    "        current state.)\n",
    "        \n",
    "    score_fn: callable (optional)\n",
    "        A function to use for heuristic evaluation of game states. \n",
    "        \n",
    "    timeout : float (optional)\n",
    "        Time remaining (in milliseconds) when search is aborted. Should be a\n",
    "        positive value large enough to allow the function to return before the\n",
    "        timer expires. \n",
    "    \"\"\"\n",
    "    def __init__(self, search_depth=3, score_fn=custom_score, timeout=10.):\n",
    "        self.search_depth = search_depth\n",
    "        self.score = score_fn\n",
    "        self.time_out = None\n",
    "        self.TIMER_THRESHOLD = timeout"
   ]
  },
  {
   "cell_type": "markdown",
   "metadata": {},
   "source": [
    "<h3>Minimax Player Class</h3>\n",
    "\n",
    "This class represents an isolation game-playing agent using depth-limited minimax search to choose a move. \n",
    "\n",
    "The game parameter is an instance of isolation.Board which is the currect state of the game. \n",
    "\n",
    "The time_left parameter is a function that returns the number of milliseconds left in the current turn. A value of less than 0 ms forfeits the game. \n",
    "\n",
    "The depth parameter is an integer representing the maximum number of levels to search in the game tree before aborting. \n",
    "\n",
    "The get_move() function will search for the best move from the available legal moves and return a result before the time limit expires. \n",
    "\n",
    "The minimax() function will implement the minimax search algorithm.\n",
    "\n",
    "MINIMAX-DECISION in AIMA text: [Link](https://github.com/aimacode/aima-pseudocode/blob/master/md/Minimax-Decision.md)"
   ]
  },
  {
   "cell_type": "code",
   "execution_count": 8,
   "metadata": {
    "collapsed": true
   },
   "outputs": [],
   "source": [
    "class MinimaxPlayer(IsolationPlayer):\n",
    "    \"\"\"Game-playing agent that chooses a move using depth-limited minimax\n",
    "    search. You must finish and test this player to make sure it properly\n",
    "    uses minimax to return a good move before the search time limit expires.\n",
    "    \"\"\"\n",
    "    \n",
    "    def get_move(self, game, time_left):\n",
    "        \"\"\"Search for the best move from the available legal moves and return a\n",
    "        result before the time limit expires.\n",
    "        \n",
    "        For fixed-depth search, this function simply wraps the call to the\n",
    "        minimax method, but this method provides a common interface for all\n",
    "        Isolation agents, and you will replace it in the AlphaBetaPlayer with\n",
    "        iterative deepening search.\n",
    "        \n",
    "        Parameters\n",
    "        ----------\n",
    "        game : `isolation.Board`\n",
    "            An instance of `isolation.Board` encoding the current state of the\n",
    "            game (e.g., player locations and blocked cells).\n",
    "            \n",
    "        time_left : callable\n",
    "            A function that returns the number of milliseconds left in the\n",
    "            current turn. Returning with any less than 0 ms remaining forfeits\n",
    "            the game.\n",
    "            \n",
    "        Returns\n",
    "        -------\n",
    "        (int, int)\n",
    "            Board coordinates corresponding to a legal move; may return\n",
    "            (-1, 1) if there are no available legal moves. \n",
    "        \"\"\"\n",
    "        self.time_left = time_left\n",
    "        \n",
    "        # Initialize the best move so that this function returns something\n",
    "        # in case the search fails due to timeout\n",
    "        best_move = (-1, 1)\n",
    "        \n",
    "        try:\n",
    "            # The try/except block will automatically catch the exception\n",
    "            # raised when the timer is about to expire.\n",
    "            return se.f.minimax(game, self.search_depth)\n",
    "        \n",
    "        except SearchTimeout:\n",
    "            pass # Handle any actions required after timeout as needed\n",
    "        \n",
    "        # Return the best move from the last completed search iteration\n",
    "        return best_move\n",
    "    \n",
    "    def minimax(self, game, depth):\n",
    "        \"\"\"Implement depth-limited minimax search algorithm.\n",
    "        \n",
    "        This should be a modified version of MINIMAX-DECISION in the AIMA text.\n",
    "        (see link above)\n",
    "        \n",
    "        Parameters\n",
    "        ----------\n",
    "        game : isolation.Board\n",
    "            An instance of the Isolation game `Board` class representing the\n",
    "            current game state.\n",
    "        \n",
    "        depth : int\n",
    "            Depth is an integer representing the maximum number of plies to\n",
    "            search in the game tree before aborting. \n",
    "            \n",
    "        Returns\n",
    "        -------\n",
    "        (int, int)\n",
    "            The board coordinates of the best move found in the current search;\n",
    "            (-1, -1) if there are no legal moves.\n",
    "            \n",
    "        Notes\n",
    "        -----\n",
    "            (1) You MUST use the `self.score()` method for board evaluation\n",
    "            to pass the project tests; you cannot call any other evaluation\n",
    "            function directly.\n",
    "            \n",
    "            (2) If you use any helper functions (e.g., as shown in the AIMA\n",
    "            pseudocode) then you must copy the timer check into the top of\n",
    "            each helper function or else your agent will timeout during \n",
    "            testing.\n",
    "        \"\"\"\n",
    "        if self.time_left() < self.TIMER_THRESHOLD:\n",
    "            raise SearchTimeout()\n",
    "        \n",
    "        # TODO: Finsih this function!\n",
    "        raise NotImplementedError        \n",
    "        \n",
    "        "
   ]
  },
  {
   "cell_type": "markdown",
   "metadata": {},
   "source": [
    "<h3>Alpha Beta Player Class</h3>\n",
    "\n",
    "A class which defines an isolation game-playing agent that chooses a move using iterative deepening minimax search with alpha-beta pruning.\n",
    "\n",
    "The ***game* parameter** is an instance of isolation.Board which encodes the current state of the game (e.g., player locations and blocked cells).\n",
    "\n",
    "The ***time_left* parameter** is a function that returns the number of milliseconds left in the current turn. \n",
    "\n",
    "The ***depth* parameter** (int) is an integer representing the maximum number of levels to search in the game tree before aborting. \n",
    "\n",
    "The ***alpha* paraemter** (float) limits the lower bound of search on minimizing layers. \n",
    "\n",
    "The ***beta* parameter** (float) limits  the upper bound of search on maximizing layers. \n",
    "\n",
    "The **get_move()** method is a modified version of the get_move() method in the MinimaxPlayer clss. This version of the get_move() method uses iterative deepening rather than fixed-depth search. \n",
    "\n",
    "The **alphabeta()** method is an implementation of depth-limited minimax search with alpha-beta pruning. It is a modified version of ALPHA-BETA-SEARCH in the AIMA text: [Link](https://github.com/aimacode/aima-pseudocode/blob/master/md/Alpha-Beta-Search.md)"
   ]
  },
  {
   "cell_type": "code",
   "execution_count": 9,
   "metadata": {
    "collapsed": true
   },
   "outputs": [],
   "source": [
    "class AlphaBetaPlayer(IsolationPlayer):\n",
    "    \"\"\"Game-playing agent that chooses a move using iterative deepening minimax\n",
    "    search with alpha-beta pruning. You must finish and test this player to\n",
    "    make sure it returns a good move before the search time limit expires.\n",
    "    \"\"\"\n",
    "    \n",
    "    def get_move(self, game, time_left):\n",
    "        \"\"\"Search for the best move from the available legal moves and return a\n",
    "        result before the time limit expires.\n",
    "        \n",
    "        Modify the get_move() method from the MinimaxPlayer class to implement\n",
    "        iterative deepening search instead of fixed-depth search.\n",
    "        \n",
    "        Note: It time_left() < 0 when this function returns, the agent will\n",
    "              forfeit the game due to timeout. \n",
    "        \n",
    "        Parameters\n",
    "        ----------\n",
    "        game : `isolation.Board`\n",
    "            An instand of `isolation.Board` encoding the current state of the\n",
    "            game (e.g., player locations and blocked cells).\n",
    "        \n",
    "        time_left : callable\n",
    "            A function that returns the number of milliseconds left in the\n",
    "            current turn. Returning with any less than 0 ms remaining forfeits\n",
    "            the game.\n",
    "            \n",
    "        Returns\n",
    "        -------\n",
    "        (int, int)\n",
    "            Board coordinates corresponding to a legal move; may return\n",
    "            (-1, -1) if there are no available legal moves. \n",
    "        \"\"\"\n",
    "        self.time_left = time_left\n",
    "        \n",
    "        # TODO: finish this function!\n",
    "        raise NotImplementedError\n",
    "    \n",
    "    def alphabeta(self, game, depth, alpha=float(\"-inf\"), beta=float(\"inf\")):\n",
    "        \"\"\"Implement depth-limited minimax search with alpha-beta pruning as\n",
    "        described in the lectures.\n",
    "        \n",
    "        This should be a modified version of ALPHA-BETA-SEARCH in the AIMA text.\n",
    "        (see link above)\n",
    "        \n",
    "        Parameters\n",
    "        ----------\n",
    "        game : isolation.Board\n",
    "            An instance of the Isolation game `Board` class representing the\n",
    "            current game state\n",
    "        \n",
    "        depth : int\n",
    "            Depth is an integer representing the maximum number of piles to\n",
    "            search in the game tree before aborting\n",
    "            \n",
    "        alpha : float\n",
    "            Alpha limits the lower bound of search on minimizing layers\n",
    "        \n",
    "        beta : float\n",
    "            Beta limits the upper bound of search on maximizing layers\n",
    "            \n",
    "        Returns\n",
    "        -------\n",
    "        (int, int)\n",
    "            The board coordinates of the best move found in the current search;\n",
    "            (-1, -1) if there are no legal moves\n",
    "            \n",
    "        Notes\n",
    "        -----\n",
    "            (1) You MUST use the `self.score()` method for board evaluation\n",
    "            to pass the project tests; you cannot call any other evaluation\n",
    "            function directly. \n",
    "            (2) If you use any helper functions (e.g., as shown in the AIMA\n",
    "            pseudocode) then you must copy the timer check into the top of\n",
    "            each helper function or else your agent will timout during\n",
    "            testing.\n",
    "        \"\"\"\n",
    "        if self.time_left() < self.TIMER_THRESHOLD:\n",
    "            raise SearchTimeout()\n",
    "        \n",
    "        # TODO: finish this function!\n",
    "        raise NotImplementedError\n",
    "        \n",
    "        "
   ]
  },
  {
   "cell_type": "code",
   "execution_count": null,
   "metadata": {
    "collapsed": true
   },
   "outputs": [],
   "source": []
  }
 ],
 "metadata": {
  "kernelspec": {
   "display_name": "Python 3",
   "language": "python",
   "name": "python3"
  },
  "language_info": {
   "codemirror_mode": {
    "name": "ipython",
    "version": 3
   },
   "file_extension": ".py",
   "mimetype": "text/x-python",
   "name": "python",
   "nbconvert_exporter": "python",
   "pygments_lexer": "ipython3",
   "version": "3.6.0"
  }
 },
 "nbformat": 4,
 "nbformat_minor": 2
}
